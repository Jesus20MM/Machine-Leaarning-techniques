{
 "cells": [
  {
   "cell_type": "markdown",
   "id": "e35ca50f",
   "metadata": {},
   "source": []
  },
  {
   "cell_type": "markdown",
   "id": "0cf78d3a",
   "metadata": {},
   "source": []
  },
  {
   "cell_type": "markdown",
   "id": "e7b86f07",
   "metadata": {},
   "source": []
  },
  {
   "cell_type": "markdown",
   "id": "3a3b04b4",
   "metadata": {},
   "source": []
  },
  {
   "cell_type": "markdown",
   "id": "57578588",
   "metadata": {},
   "source": []
  },
  {
   "cell_type": "markdown",
   "id": "5233e9ca",
   "metadata": {},
   "source": []
  },
  {
   "cell_type": "markdown",
   "id": "7bb813fa",
   "metadata": {},
   "source": []
  },
  {
   "cell_type": "markdown",
   "id": "05ac4ba3",
   "metadata": {},
   "source": []
  },
  {
   "cell_type": "markdown",
   "id": "793df3db",
   "metadata": {},
   "source": []
  },
  {
   "cell_type": "markdown",
   "id": "55c598a8",
   "metadata": {},
   "source": []
  },
  {
   "cell_type": "markdown",
   "id": "da2d632e",
   "metadata": {},
   "source": []
  }
 ],
 "metadata": {
  "language_info": {
   "name": "python"
  }
 },
 "nbformat": 4,
 "nbformat_minor": 5
}
