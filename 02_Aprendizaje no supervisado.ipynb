{
 "cells": [
  {
   "cell_type": "markdown",
   "id": "9b20c4a3",
   "metadata": {},
   "source": [
    "# 1.- K medias"
   ]
  },
  {
   "cell_type": "markdown",
   "id": "b809a9ad",
   "metadata": {},
   "source": []
  },
  {
   "cell_type": "markdown",
   "id": "b89d0d49",
   "metadata": {},
   "source": []
  },
  {
   "cell_type": "markdown",
   "id": "c83d7f96",
   "metadata": {},
   "source": []
  },
  {
   "cell_type": "markdown",
   "id": "740b6970",
   "metadata": {},
   "source": []
  },
  {
   "cell_type": "markdown",
   "id": "2ef18437",
   "metadata": {},
   "source": []
  },
  {
   "cell_type": "markdown",
   "id": "cae56f41",
   "metadata": {},
   "source": []
  },
  {
   "cell_type": "markdown",
   "id": "b5313735",
   "metadata": {},
   "source": []
  },
  {
   "cell_type": "markdown",
   "id": "05ff4d5b",
   "metadata": {},
   "source": [
    "# 2.- Agrupación jerarquica "
   ]
  },
  {
   "cell_type": "markdown",
   "id": "2fe8cc3f",
   "metadata": {},
   "source": []
  },
  {
   "cell_type": "markdown",
   "id": "d73ddc72",
   "metadata": {},
   "source": []
  },
  {
   "cell_type": "markdown",
   "id": "5d7cf9a5",
   "metadata": {},
   "source": []
  },
  {
   "cell_type": "markdown",
   "id": "e0bc2273",
   "metadata": {},
   "source": [
    "# 3.- t-SNE "
   ]
  },
  {
   "cell_type": "markdown",
   "id": "a42d727e",
   "metadata": {},
   "source": []
  },
  {
   "cell_type": "markdown",
   "id": "f3a739c8",
   "metadata": {},
   "source": []
  },
  {
   "cell_type": "markdown",
   "id": "4466019a",
   "metadata": {},
   "source": [
    "# 4.- PCA"
   ]
  },
  {
   "cell_type": "markdown",
   "id": "87b5a381",
   "metadata": {},
   "source": []
  }
 ],
 "metadata": {
  "language_info": {
   "name": "python"
  }
 },
 "nbformat": 4,
 "nbformat_minor": 5
}
