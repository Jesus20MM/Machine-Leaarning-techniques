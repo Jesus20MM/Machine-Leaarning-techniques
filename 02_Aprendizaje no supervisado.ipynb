{
 "cells": [
  {
   "cell_type": "markdown",
   "id": "f9e5376d",
   "metadata": {},
   "source": [
    "Genera un ejercicio para aplicar X. Tienes un dataset llamado df_encoded tenemos información de clientes bancarios. Las variables son: person_age\tperson_income\tperson_home_ownership\tperson_emp_length\tloan_intent\tloan_grade\tloan_amnt\tloan_int_rate\tloan_status\tloan_percent_income\tcb_person_default_on_file\tcb_person_cred_hist_length\n",
    "\n",
    "\n",
    "Las características del ejercicio son:\n",
    "\n",
    "- No pongas objetivos muy extensos (considera que el ejercicio debe de ser didáctico y enfocado en aplicar la técnica correspondiente)\n",
    "- Genera el enunciado correspondiente con los entregables esperados\n",
    "- Dame la solución conceptual o en código según sea el caso. La solución en código debe estar en una sola celda y organizada"
   ]
  },
  {
   "cell_type": "markdown",
   "id": "9b20c4a3",
   "metadata": {},
   "source": [
    "# 1.- K medias"
   ]
  },
  {
   "cell_type": "markdown",
   "id": "a8357326",
   "metadata": {},
   "source": [
    "## Ejercicio 1"
   ]
  },
  {
   "cell_type": "markdown",
   "id": "e4cf45cf",
   "metadata": {},
   "source": [
    "Tienes disponible el dataset df_encoded, que contiene información codificada de clientes bancarios. Tu objetivo es agrupar a los clientes en segmentos similares mediante la técnica de K-Means Clustering, con el fin de descubrir patrones o perfiles que puedan ser útiles para campañas de marketing, evaluación de riesgos u optimización de productos.\n",
    "\n",
    "🎯 Objetivo:\n",
    "Aplicar K-Means Clustering para segmentar a los clientes en 3 a 5 grupos (elige un número razonable de clusters con base en el método del codo).\n",
    "\n",
    "✅ Entregables esperados:\n",
    "\n",
    "- Preprocesamiento: Selección de variables numéricas relevantes y estandarización.\n",
    "\n",
    "- Entrenamiento del modelo K-Means (usa K=3, 4 y 5) y uso del método del codo para determinar el mejor número de clusters.\n",
    "\n",
    "- Visualización de los clusters usando PCA o TSNE (proyección a 2D).\n",
    "\n",
    "- Análisis breve: Describe en pocas líneas qué características diferencian a los clusters entre sí."
   ]
  },
  {
   "cell_type": "markdown",
   "id": "8be81fc8",
   "metadata": {},
   "source": [
    "Metodología para aplicar k means:\n",
    "\n"
   ]
  },
  {
   "cell_type": "markdown",
   "id": "b809a9ad",
   "metadata": {},
   "source": []
  },
  {
   "cell_type": "code",
   "execution_count": null,
   "id": "eccf5bcb",
   "metadata": {},
   "outputs": [],
   "source": [
    "# -------------------------------\n",
    "# SEGMENTACIÓN DE CLIENTES CON K-MEANS\n",
    "# -------------------------------\n",
    "\n",
    "# Importar librerías\n",
    "import pandas as pd\n",
    "from sklearn.preprocessing import StandardScaler\n",
    "from sklearn.cluster import KMeans\n",
    "from sklearn.decomposition import PCA\n",
    "import matplotlib.pyplot as plt\n",
    "import seaborn as sns\n",
    "\n",
    "# 1. Selección de variables numéricas relevantes\n",
    "features = ['person_age', 'person_income', 'person_emp_length',\n",
    "            'loan_amnt', 'loan_int_rate', 'loan_percent_income', \n",
    "            'cb_person_cred_hist_length']\n",
    "\n",
    "X = df_encoded[features]\n",
    "\n",
    "# 2. Escalamiento\n",
    "scaler = StandardScaler()\n",
    "X_scaled = scaler.fit_transform(X)\n",
    "\n",
    "# 3. Método del Codo para determinar el número óptimo de clusters\n",
    "inertia = []\n",
    "K_range = range(1, 10)\n",
    "for k in K_range:\n",
    "    kmeans = KMeans(n_clusters=k, random_state=42)\n",
    "    kmeans.fit(X_scaled)\n",
    "    inertia.append(kmeans.inertia_)\n",
    "\n",
    "plt.figure(figsize=(6, 4))\n",
    "plt.plot(K_range, inertia, marker='o')\n",
    "plt.title('Método del Codo para determinar K óptimo')\n",
    "plt.xlabel('Número de Clusters (K)')\n",
    "plt.ylabel('Inercia')\n",
    "plt.grid(True)\n",
    "plt.show()\n",
    "\n",
    "# 4. Aplicar KMeans con K=4 (ajusta según el codo)\n",
    "kmeans = KMeans(n_clusters=4, random_state=42)\n",
    "df_encoded['cluster'] = kmeans.fit_predict(X_scaled)\n",
    "\n",
    "# 5. Visualización de clusters con PCA\n",
    "pca = PCA(n_components=2)\n",
    "X_pca = pca.fit_transform(X_scaled)\n",
    "\n",
    "plt.figure(figsize=(8, 6))\n",
    "sns.scatterplot(x=X_pca[:, 0], y=X_pca[:, 1], hue=df_encoded['cluster'], palette='viridis')\n",
    "plt.title('Clusters visualizados con PCA')\n",
    "plt.xlabel('Componente Principal 1')\n",
    "plt.ylabel('Componente Principal 2')\n",
    "plt.legend(title='Cluster')\n",
    "plt.show()\n",
    "\n",
    "# 6. Análisis de clusters: comparación de medias\n",
    "cluster_summary = df_encoded.groupby('cluster')[features].mean()\n",
    "display(cluster_summary)\n"
   ]
  },
  {
   "cell_type": "markdown",
   "id": "b89d0d49",
   "metadata": {},
   "source": []
  },
  {
   "cell_type": "markdown",
   "id": "c83d7f96",
   "metadata": {},
   "source": []
  },
  {
   "cell_type": "markdown",
   "id": "740b6970",
   "metadata": {},
   "source": []
  },
  {
   "cell_type": "markdown",
   "id": "2ef18437",
   "metadata": {},
   "source": []
  },
  {
   "cell_type": "markdown",
   "id": "cae56f41",
   "metadata": {},
   "source": []
  },
  {
   "cell_type": "markdown",
   "id": "b5313735",
   "metadata": {},
   "source": []
  },
  {
   "cell_type": "markdown",
   "id": "05ff4d5b",
   "metadata": {},
   "source": [
    "# 2.- Agrupación jerarquica "
   ]
  },
  {
   "cell_type": "markdown",
   "id": "2fe8cc3f",
   "metadata": {},
   "source": []
  },
  {
   "cell_type": "markdown",
   "id": "d73ddc72",
   "metadata": {},
   "source": []
  },
  {
   "cell_type": "markdown",
   "id": "5d7cf9a5",
   "metadata": {},
   "source": []
  },
  {
   "cell_type": "markdown",
   "id": "e0bc2273",
   "metadata": {},
   "source": [
    "# 3.- t-SNE "
   ]
  },
  {
   "cell_type": "markdown",
   "id": "a42d727e",
   "metadata": {},
   "source": []
  },
  {
   "cell_type": "markdown",
   "id": "f3a739c8",
   "metadata": {},
   "source": []
  },
  {
   "cell_type": "markdown",
   "id": "4466019a",
   "metadata": {},
   "source": [
    "# 4.- PCA"
   ]
  },
  {
   "cell_type": "markdown",
   "id": "87b5a381",
   "metadata": {},
   "source": []
  }
 ],
 "metadata": {
  "kernelspec": {
   "display_name": "Mipentorno",
   "language": "python",
   "name": "python3"
  },
  "language_info": {
   "name": "python",
   "version": "3.12.8"
  }
 },
 "nbformat": 4,
 "nbformat_minor": 5
}
